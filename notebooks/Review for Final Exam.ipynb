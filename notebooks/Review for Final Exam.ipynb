{
 "cells": [
  {
   "cell_type": "markdown",
   "id": "7979455c",
   "metadata": {
    "slideshow": {
     "slide_type": "slide"
    }
   },
   "source": [
    "# Review for Final Exam\n",
    "\n",
    "* Instructor: Dr. Wei Kang\n",
    "* Class Location and Time: ENV 336, Mon & Wed 12:30 pm - 1:50 pm\n",
    "\n",
    "Content:\n",
    "\n",
    "* Schedule\n",
    "* Review session"
   ]
  },
  {
   "cell_type": "markdown",
   "id": "f3af25c9",
   "metadata": {
    "slideshow": {
     "slide_type": "slide"
    }
   },
   "source": [
    "## Schedule"
   ]
  },
  {
   "attachments": {},
   "cell_type": "markdown",
   "id": "5145552a",
   "metadata": {
    "slideshow": {
     "slide_type": "subslide"
    }
   },
   "source": [
    "### Final Exam \n",
    "\n",
    "* Schedule\n",
    "    * Time: May 8, 2023, 12:30 pm - 1:50 pm (80 mins)\n",
    "    * Location: ENV 336\n",
    "* Format: \n",
    "    * closed-book, paper exam (bring a pen/pencil)\n",
    "    * 25 points toward the final grade\n",
    "    * 20 questions \n",
    "        * 17 multiple choice questions\n",
    "        * 1 multiple answer question (more than 1 could apply)\n",
    "        * 2 programming questions"
   ]
  },
  {
   "cell_type": "markdown",
   "id": "2615e87b",
   "metadata": {
    "slideshow": {
     "slide_type": "subslide"
    }
   },
   "source": [
    "### Course evaluation\n",
    "\n",
    "* closes on May 4, 2023 at 11:59pm\n",
    "* current response rate (the percentage of students who finished the evaluation) is: 30%\n",
    "* If we can achieve a feedback participation rate of 75% among the class, everyone will receive a 1 point bonus on their final grade"
   ]
  },
  {
   "cell_type": "markdown",
   "id": "e91f0a50",
   "metadata": {
    "slideshow": {
     "slide_type": "subslide"
    }
   },
   "source": [
    "### HW10\n",
    "\n",
    "* Available on Jupyter Hub\n",
    "* Every student will get full marks irrespective of submission"
   ]
  },
  {
   "cell_type": "markdown",
   "id": "dc04e673",
   "metadata": {
    "slideshow": {
     "slide_type": "slide"
    }
   },
   "source": [
    "## Review session\n",
    "\n",
    "* Review guide.pdf on canvas\n",
    "* Programming questions \n",
    "* Additional questions from students"
   ]
  },
  {
   "cell_type": "markdown",
   "id": "6eb8cdb4",
   "metadata": {
    "slideshow": {
     "slide_type": "subslide"
    }
   },
   "source": [
    "### Question 1\n",
    "\n",
    "Write a Python program to calculate the sum of all the even numbers from 1 to 100."
   ]
  },
  {
   "cell_type": "code",
   "execution_count": 30,
   "id": "96b294a4",
   "metadata": {},
   "outputs": [],
   "source": [
    "import numpy as np"
   ]
  },
  {
   "cell_type": "code",
   "execution_count": 31,
   "id": "397df0e2",
   "metadata": {},
   "outputs": [
    {
     "data": {
      "text/plain": [
       "array([  2,   4,   6,   8,  10,  12,  14,  16,  18,  20,  22,  24,  26,\n",
       "        28,  30,  32,  34,  36,  38,  40,  42,  44,  46,  48,  50,  52,\n",
       "        54,  56,  58,  60,  62,  64,  66,  68,  70,  72,  74,  76,  78,\n",
       "        80,  82,  84,  86,  88,  90,  92,  94,  96,  98, 100])"
      ]
     },
     "execution_count": 31,
     "metadata": {},
     "output_type": "execute_result"
    }
   ],
   "source": [
    "np.arange(2, 101, 2)"
   ]
  },
  {
   "cell_type": "code",
   "execution_count": 32,
   "id": "41642c9b",
   "metadata": {},
   "outputs": [
    {
     "data": {
      "text/plain": [
       "2550"
      ]
     },
     "execution_count": 32,
     "metadata": {},
     "output_type": "execute_result"
    }
   ],
   "source": [
    "sum(np.arange(2, 101, 2))"
   ]
  },
  {
   "cell_type": "code",
   "execution_count": 33,
   "id": "542b96cf",
   "metadata": {},
   "outputs": [
    {
     "data": {
      "text/plain": [
       "2550"
      ]
     },
     "execution_count": 33,
     "metadata": {},
     "output_type": "execute_result"
    }
   ],
   "source": [
    "np.arange(2, 101, 2).sum()"
   ]
  },
  {
   "cell_type": "code",
   "execution_count": 20,
   "id": "c6a91d23",
   "metadata": {},
   "outputs": [],
   "source": [
    "list_a = list(range(1, 101))"
   ]
  },
  {
   "cell_type": "code",
   "execution_count": 21,
   "id": "cea9cc28",
   "metadata": {},
   "outputs": [
    {
     "name": "stdout",
     "output_type": "stream",
     "text": [
      "2550\n"
     ]
    }
   ],
   "source": [
    "summ = 0\n",
    "for i in list_a:\n",
    "    if i%2 == 0:\n",
    "        summ = summ +i\n",
    "print(summ)"
   ]
  },
  {
   "cell_type": "code",
   "execution_count": 29,
   "id": "28674210",
   "metadata": {},
   "outputs": [
    {
     "data": {
      "text/plain": [
       "2550"
      ]
     },
     "execution_count": 29,
     "metadata": {},
     "output_type": "execute_result"
    }
   ],
   "source": [
    "sum(list(range(2, 101, 2)))"
   ]
  },
  {
   "cell_type": "code",
   "execution_count": 24,
   "id": "10f70f98",
   "metadata": {},
   "outputs": [
    {
     "data": {
      "text/plain": [
       "38"
      ]
     },
     "execution_count": 24,
     "metadata": {},
     "output_type": "execute_result"
    }
   ],
   "source": [
    "a = [1,2,35]\n",
    "sum(a)"
   ]
  },
  {
   "cell_type": "code",
   "execution_count": 26,
   "id": "1635a719",
   "metadata": {},
   "outputs": [
    {
     "data": {
      "text/plain": [
       "12.666666666666666"
      ]
     },
     "execution_count": 26,
     "metadata": {},
     "output_type": "execute_result"
    }
   ],
   "source": [
    "sum(a) / len(a)"
   ]
  },
  {
   "cell_type": "code",
   "execution_count": 25,
   "id": "5e7e42fb",
   "metadata": {},
   "outputs": [
    {
     "ename": "NameError",
     "evalue": "name 'ave' is not defined",
     "output_type": "error",
     "traceback": [
      "\u001b[0;31m---------------------------------------------------------------------------\u001b[0m",
      "\u001b[0;31mNameError\u001b[0m                                 Traceback (most recent call last)",
      "Cell \u001b[0;32mIn[25], line 1\u001b[0m\n\u001b[0;32m----> 1\u001b[0m \u001b[43mave\u001b[49m(a)\n",
      "\u001b[0;31mNameError\u001b[0m: name 'ave' is not defined"
     ]
    }
   ],
   "source": [
    "ave(a)"
   ]
  },
  {
   "cell_type": "code",
   "execution_count": 23,
   "id": "3aea675f",
   "metadata": {},
   "outputs": [
    {
     "data": {
      "text/plain": [
       "38"
      ]
     },
     "execution_count": 23,
     "metadata": {},
     "output_type": "execute_result"
    }
   ],
   "source": [
    "sum([1,2,35])"
   ]
  },
  {
   "cell_type": "code",
   "execution_count": 8,
   "id": "64100d63",
   "metadata": {
    "slideshow": {
     "slide_type": "skip"
    }
   },
   "outputs": [
    {
     "data": {
      "text/plain": [
       "2550"
      ]
     },
     "execution_count": 8,
     "metadata": {},
     "output_type": "execute_result"
    }
   ],
   "source": [
    "list100 = range(1,101)\n",
    "sum_all = 0\n",
    "for i in list100:\n",
    "    if i%2 == 0:\n",
    "        sum_all = i + sum_all\n",
    "sum_all"
   ]
  },
  {
   "cell_type": "code",
   "execution_count": 11,
   "id": "3b894e50",
   "metadata": {},
   "outputs": [
    {
     "data": {
      "text/plain": [
       "2500"
      ]
     },
     "execution_count": 11,
     "metadata": {},
     "output_type": "execute_result"
    }
   ],
   "source": [
    "list100_even = list(range(1,101, 2))\n",
    "sum(list100_even)"
   ]
  },
  {
   "cell_type": "code",
   "execution_count": 12,
   "id": "9c96a9e8",
   "metadata": {},
   "outputs": [
    {
     "data": {
      "text/plain": [
       "2500"
      ]
     },
     "execution_count": 12,
     "metadata": {},
     "output_type": "execute_result"
    }
   ],
   "source": [
    "import numpy as np\n",
    "npa100 = np.arange(1,101, 2)\n",
    "sum(npa100)"
   ]
  },
  {
   "cell_type": "code",
   "execution_count": 13,
   "id": "5f6a3952",
   "metadata": {},
   "outputs": [
    {
     "data": {
      "text/plain": [
       "2500"
      ]
     },
     "execution_count": 13,
     "metadata": {},
     "output_type": "execute_result"
    }
   ],
   "source": [
    "npa100.sum()"
   ]
  },
  {
   "attachments": {},
   "cell_type": "markdown",
   "id": "364d3768",
   "metadata": {
    "slideshow": {
     "slide_type": "subslide"
    }
   },
   "source": [
    "### Question 2\n",
    "\n",
    "Write a Python class called `Square` that has attributes for length. Include methods to calculate the area and perimeter of the square."
   ]
  },
  {
   "cell_type": "code",
   "execution_count": 14,
   "id": "8e454702",
   "metadata": {},
   "outputs": [],
   "source": [
    "class Square():\n",
    "    def __init__(self, length):\n",
    "        self.length = length\n",
    "        \n",
    "    def area(self):\n",
    "        return self.length **2\n",
    "    def perimeter(self):\n",
    "        return self.length * 4"
   ]
  },
  {
   "cell_type": "code",
   "execution_count": 15,
   "id": "a0450c39",
   "metadata": {},
   "outputs": [],
   "source": [
    "s = Square(10)"
   ]
  },
  {
   "cell_type": "code",
   "execution_count": 17,
   "id": "81937039",
   "metadata": {},
   "outputs": [
    {
     "data": {
      "text/plain": [
       "100"
      ]
     },
     "execution_count": 17,
     "metadata": {},
     "output_type": "execute_result"
    }
   ],
   "source": [
    "s.area()"
   ]
  },
  {
   "cell_type": "code",
   "execution_count": 18,
   "id": "3ced463e",
   "metadata": {},
   "outputs": [
    {
     "data": {
      "text/plain": [
       "40"
      ]
     },
     "execution_count": 18,
     "metadata": {},
     "output_type": "execute_result"
    }
   ],
   "source": [
    "s.perimeter()"
   ]
  },
  {
   "cell_type": "markdown",
   "id": "900eb563",
   "metadata": {
    "slideshow": {
     "slide_type": "subslide"
    }
   },
   "source": [
    "### Questions from students?"
   ]
  },
  {
   "cell_type": "code",
   "execution_count": null,
   "id": "e4c4e4d8",
   "metadata": {},
   "outputs": [],
   "source": []
  }
 ],
 "metadata": {
  "celltoolbar": "Slideshow",
  "kernelspec": {
   "display_name": "Python 3 (ipykernel)",
   "language": "python",
   "name": "python3"
  },
  "language_info": {
   "codemirror_mode": {
    "name": "ipython",
    "version": 3
   },
   "file_extension": ".py",
   "mimetype": "text/x-python",
   "name": "python",
   "nbconvert_exporter": "python",
   "pygments_lexer": "ipython3",
   "version": "3.9.16"
  }
 },
 "nbformat": 4,
 "nbformat_minor": 5
}
